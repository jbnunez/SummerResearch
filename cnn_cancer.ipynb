{
 "cells": [
  {
   "cell_type": "code",
   "execution_count": null,
   "metadata": {},
   "outputs": [],
   "source": [
    "import numpy as np\n",
    "import scipy as sc\n",
    "import keras\n",
    "from keras.models import Sequential\n",
    "from keras.layers.core import Dense, Dropout, Activation\n",
    "from keras.layers import Input, Flatten, Conv2D, MaxPooling2D\n",
    "import cancer_cnn_data as data\n",
    "\n"
   ]
  },
  {
   "cell_type": "markdown",
   "metadata": {},
   "source": [
    "Constants to be used in training"
   ]
  },
  {
   "cell_type": "code",
   "execution_count": 8,
   "metadata": {
    "collapsed": true
   },
   "outputs": [],
   "source": [
    "num_epochs = 20\n",
    "batch_size = 5"
   ]
  },
  {
   "cell_type": "markdown",
   "metadata": {},
   "source": [
    "Getting data from the imported file"
   ]
  },
  {
   "cell_type": "code",
   "execution_count": null,
   "metadata": {
    "collapsed": true
   },
   "outputs": [],
   "source": [
    "X = data.images\n",
    "N, height, width, channels = X.shape\n",
    "y = data.targets\n",
    "input_shape = (height, width, channels)\n",
    "num_classes = y.shape[1]"
   ]
  },
  {
   "cell_type": "markdown",
   "metadata": {},
   "source": [
    "Building the model.  Archtecture is Convolutional layer, pooling layer, convolutional, pooling, flattening, dense, then dense output."
   ]
  },
  {
   "cell_type": "code",
   "execution_count": 4,
   "metadata": {},
   "outputs": [
    {
     "name": "stdout",
     "output_type": "stream",
     "text": [
      "==>Building Model.\n"
     ]
    }
   ],
   "source": [
    "print('==>Building Model.')\n",
    "\n",
    "model = Sequential()\n",
    "model.add(Conv2D(32, kernel_size=(8, 8), strides=(1, 1),\n",
    "                 activation='relu',\n",
    "                 input_shape=input_shape))\n",
    "model.add(MaxPooling2D(pool_size=(2, 2), strides=(2, 2)))\n",
    "model.add(Conv2D(64, (5, 5), activation='relu'))\n",
    "model.add(MaxPooling2D(pool_size=(2, 2)))\n",
    "model.add(Flatten())\n",
    "model.add(Dense(1000, activation='relu'))\n",
    "model.add(Dense(num_classes, activation='softmax'))"
   ]
  },
  {
   "cell_type": "markdown",
   "metadata": {},
   "source": [
    "Compile the model using mean square error as loss, stochastic gradient descent optimizer, and accuracy as the evaluation metric"
   ]
  },
  {
   "cell_type": "code",
   "execution_count": 5,
   "metadata": {},
   "outputs": [
    {
     "name": "stdout",
     "output_type": "stream",
     "text": [
      "==>Compiling Model.\n"
     ]
    }
   ],
   "source": [
    "print('==>Compiling Model.')\n",
    "model.compile(loss='mean_squared_error', optimizer='sgd', metrics=['accuracy'])\n"
   ]
  },
  {
   "cell_type": "code",
   "execution_count": 9,
   "metadata": {},
   "outputs": [
    {
     "name": "stdout",
     "output_type": "stream",
     "text": [
      "==>Fitting Model.\n",
      "Train on 48000 samples, validate on 12000 samples\n",
      "Epoch 1/20\n",
      "48000/48000 [==============================] - 51s 1ms/step - loss: 0.0085 - acc: 0.9472 - val_loss: 0.0078 - val_acc: 0.9512\n",
      "Epoch 2/20\n",
      "48000/48000 [==============================] - 49s 1ms/step - loss: 0.0083 - acc: 0.9487 - val_loss: 0.0076 - val_acc: 0.9530\n",
      "Epoch 3/20\n",
      "48000/48000 [==============================] - 48s 991us/step - loss: 0.0080 - acc: 0.9508 - val_loss: 0.0074 - val_acc: 0.9543\n",
      "Epoch 4/20\n",
      "48000/48000 [==============================] - 44s 915us/step - loss: 0.0078 - acc: 0.9522 - val_loss: 0.0072 - val_acc: 0.9557\n",
      "Epoch 5/20\n",
      "48000/48000 [==============================] - 44s 927us/step - loss: 0.0076 - acc: 0.9533 - val_loss: 0.0070 - val_acc: 0.9574\n",
      "Epoch 6/20\n",
      "48000/48000 [==============================] - 48s 992us/step - loss: 0.0074 - acc: 0.9548 - val_loss: 0.0069 - val_acc: 0.9576\n",
      "Epoch 7/20\n",
      "48000/48000 [==============================] - 46s 956us/step - loss: 0.0072 - acc: 0.9555 - val_loss: 0.0067 - val_acc: 0.9579\n",
      "Epoch 8/20\n",
      "48000/48000 [==============================] - 47s 983us/step - loss: 0.0070 - acc: 0.9572 - val_loss: 0.0065 - val_acc: 0.9603\n",
      "Epoch 9/20\n",
      "48000/48000 [==============================] - 50s 1ms/step - loss: 0.0069 - acc: 0.9583 - val_loss: 0.0065 - val_acc: 0.9602\n",
      "Epoch 10/20\n",
      "48000/48000 [==============================] - 49s 1ms/step - loss: 0.0067 - acc: 0.9592 - val_loss: 0.0062 - val_acc: 0.9615\n",
      "Epoch 11/20\n",
      "48000/48000 [==============================] - 50s 1ms/step - loss: 0.0066 - acc: 0.9603 - val_loss: 0.0062 - val_acc: 0.9618\n",
      "Epoch 12/20\n",
      "48000/48000 [==============================] - 53s 1ms/step - loss: 0.0064 - acc: 0.9611 - val_loss: 0.0061 - val_acc: 0.9619\n",
      "Epoch 13/20\n",
      "48000/48000 [==============================] - 53s 1ms/step - loss: 0.0063 - acc: 0.9620 - val_loss: 0.0060 - val_acc: 0.9631\n",
      "Epoch 14/20\n",
      "48000/48000 [==============================] - 50s 1ms/step - loss: 0.0061 - acc: 0.9627 - val_loss: 0.0058 - val_acc: 0.9629\n",
      "Epoch 15/20\n",
      "48000/48000 [==============================] - 51s 1ms/step - loss: 0.0060 - acc: 0.9634 - val_loss: 0.0058 - val_acc: 0.9647\n",
      "Epoch 16/20\n",
      "48000/48000 [==============================] - 51s 1ms/step - loss: 0.0059 - acc: 0.9648 - val_loss: 0.0056 - val_acc: 0.9643\n",
      "Epoch 17/20\n",
      "48000/48000 [==============================] - 51s 1ms/step - loss: 0.0058 - acc: 0.9652 - val_loss: 0.0056 - val_acc: 0.9657\n",
      "Epoch 18/20\n",
      "48000/48000 [==============================] - 51s 1ms/step - loss: 0.0057 - acc: 0.9660 - val_loss: 0.0055 - val_acc: 0.9657\n",
      "Epoch 19/20\n",
      "48000/48000 [==============================] - 44s 927us/step - loss: 0.0055 - acc: 0.9666 - val_loss: 0.0054 - val_acc: 0.9666\n",
      "Epoch 20/20\n",
      "48000/48000 [==============================] - 43s 905us/step - loss: 0.0054 - acc: 0.9675 - val_loss: 0.0052 - val_acc: 0.9669\n"
     ]
    },
    {
     "data": {
      "text/plain": [
       "<keras.callbacks.History at 0x10d243470>"
      ]
     },
     "execution_count": 9,
     "metadata": {},
     "output_type": "execute_result"
    }
   ],
   "source": [
    "print('==>Fitting Model.')\n",
    "model.fit(x=X, y=y, batch_size=batch_size, \n",
    "    epochs=num_epochs, validation_split=0.1)"
   ]
  },
  {
   "cell_type": "code",
   "execution_count": 10,
   "metadata": {},
   "outputs": [
    {
     "name": "stdout",
     "output_type": "stream",
     "text": [
      "==>Evaluating Model.\n",
      "10000/10000 [==============================] - 3s 340us/step\n",
      "[0.0049434678355042708, 0.97050000000000003]\n"
     ]
    }
   ],
   "source": [
    "print('==>Evaluating Model.')\n",
    "print(model.evaluate(x=X, y=y))\n"
   ]
  },
  {
   "cell_type": "code",
   "execution_count": null,
   "metadata": {
    "collapsed": true
   },
   "outputs": [],
   "source": []
  }
 ],
 "metadata": {
  "kernelspec": {
   "display_name": "Python 3",
   "language": "python",
   "name": "python3"
  },
  "language_info": {
   "codemirror_mode": {
    "name": "ipython",
    "version": 3
   },
   "file_extension": ".py",
   "mimetype": "text/x-python",
   "name": "python",
   "nbconvert_exporter": "python",
   "pygments_lexer": "ipython3",
   "version": "3.6.4"
  }
 },
 "nbformat": 4,
 "nbformat_minor": 2
}
