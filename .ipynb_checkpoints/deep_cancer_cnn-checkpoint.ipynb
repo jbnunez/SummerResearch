{
 "cells": [
  {
   "cell_type": "code",
   "execution_count": 23,
   "metadata": {},
   "outputs": [],
   "source": [
    "import keras\n",
    "from keras.models import Sequential\n",
    "from keras.layers.core import Dense, Dropout, Activation, Reshape\n",
    "from keras.layers import Input, Flatten, Conv2D, Conv1D, MaxPooling2D, MaxPooling1D\n",
    "from cancer_cnn_generator import DataGenerator\n",
    "import pickle\n",
    "from  sklearn.model_selection import train_test_split\n",
    "import h5py"
   ]
  },
  {
   "cell_type": "code",
   "execution_count": 24,
   "metadata": {},
   "outputs": [],
   "source": [
    "num_epochs = 6\n",
    "steps_per_epoch = 5000\n",
    "\n",
    "input_shape = (128,128,1)\n",
    "\n",
    "IDs = pickle.load(open(\"cancer_IDs\", \"rb\"))\n",
    "train_IDs, test_IDs = train_test_split(IDs, test_size=0.2)\n",
    "train_IDs, val_IDs = train_test_split(train_IDs, test_size=0.15)\n",
    "\n",
    "\n",
    "params = {'dim': input_shape, 'batch_size': 30 , 'shuffle': True}\n",
    "\n",
    "label_key = 'patient_tss'"
   ]
  },
  {
   "cell_type": "code",
   "execution_count": 25,
   "metadata": {},
   "outputs": [],
   "source": [
    "train_generator = DataGenerator(train_IDs, label_key, **params)\n",
    "val_generator = DataGenerator(val_IDs, label_key, **params)\n",
    "test_generator = DataGenerator(test_IDs, label_key, **params)\n",
    "\n",
    "num_classes = train_generator.get_num_classes()"
   ]
  },
  {
   "cell_type": "code",
   "execution_count": 45,
   "metadata": {},
   "outputs": [],
   "source": [
    "model = Sequential()\n",
    "model.add(Conv2D(32, kernel_size=(8, 8), strides=(1, 1),\n",
    "                 activation='relu',\n",
    "                 input_shape=input_shape))\n",
    "model.add(MaxPooling2D(pool_size=(2, 2), strides=(2, 2)))\n",
    "model.add(Conv2D(64, (5, 5), activation='relu'))\n",
    "model.add(MaxPooling2D(pool_size=(2, 2)))\n",
    "model.add(Conv2D(64, (5, 5), activation='relu'))\n",
    "model.add(MaxPooling2D(pool_size=(2, 2)))\n",
    "model.add(Conv2D(64, (5, 5), activation='relu'))\n",
    "model.add(MaxPooling2D(pool_size=(2, 2)))\n",
    "model.add(Conv2D(64, (4, 4), activation='relu'))\n",
    "#model.add(MaxPooling2D(pool_size=(3, 3)))\n",
    "model.add(Flatten())\n",
    "model.add(Dense(1000, activation='relu'))\n",
    "model.add(Dense(1000, activation='relu'))\n",
    "#model.add(Reshape((-1,1)))\n",
    "#model.add(Conv1D(64, 3, activation='relu'))\n",
    "#model.add(MaxPooling1D(3))\n",
    "model.add(Dense(1000, activation='relu'))\n",
    "model.add(Dropout(0.2))\n",
    "model.add(Dense(1000, activation='relu'))\n",
    "#model.add(Reshape((-1,1)))\n",
    "#model.add(Conv1D(64, 3, activation='relu'))\n",
    "#model.add(MaxPooling1D(3))\n",
    "model.add(Dense(1000, activation='relu'))\n",
    "model.add(Dropout(0.2))\n",
    "model.add(Dense(1000, activation='relu'))\n",
    "model.add(Dense(1000, activation='relu'))\n",
    "model.add(Dense(num_classes, activation='softmax'))\n"
   ]
  },
  {
   "cell_type": "code",
   "execution_count": 46,
   "metadata": {},
   "outputs": [
    {
     "name": "stdout",
     "output_type": "stream",
     "text": [
      "==>Compiling Model.\n"
     ]
    }
   ],
   "source": [
    "print('==>Compiling Model.')\n",
    "model.compile(loss='mean_squared_error', optimizer='adam', metrics=['accuracy'])\n"
   ]
  },
  {
   "cell_type": "code",
   "execution_count": 47,
   "metadata": {},
   "outputs": [
    {
     "name": "stdout",
     "output_type": "stream",
     "text": [
      "==>Fitting Model.\n",
      "Epoch 1/6\n",
      "5000/5000 [==============================] - 3572s 714ms/step - loss: 0.0727 - acc: 0.6266 - val_loss: 0.0732 - val_acc: 0.6215\n",
      "Epoch 2/6\n",
      "5000/5000 [==============================] - 3572s 714ms/step - loss: 0.0724 - acc: 0.6280 - val_loss: 0.0733 - val_acc: 0.6215\n",
      "Epoch 3/6\n",
      " 838/5000 [====>.........................] - ETA: 47:42 - loss: 0.0718 - acc: 0.6314\n",
      "5000/5000 [==============================] - 3580s 716ms/step - loss: 0.0726 - acc: 0.6263 - val_loss: 0.0732 - val_acc: 0.6215\n",
      "Epoch 4/6\n",
      "5000/5000 [==============================] - 3573s 715ms/step - loss: 0.0723 - acc: 0.6282 - val_loss: 0.0732 - val_acc: 0.6215\n",
      "Epoch 5/6\n",
      "5000/5000 [==============================] - 3573s 715ms/step - loss: 0.0723 - acc: 0.6285 - val_loss: 0.0733 - val_acc: 0.6215\n",
      "Epoch 6/6\n",
      "5000/5000 [==============================] - 3578s 716ms/step - loss: 0.0724 - acc: 0.6269 - val_loss: 0.0733 - val_acc: 0.6215\n"
     ]
    },
    {
     "data": {
      "text/plain": [
       "<keras.callbacks.History at 0x1c4e1f0898>"
      ]
     },
     "execution_count": 47,
     "metadata": {},
     "output_type": "execute_result"
    }
   ],
   "source": [
    "print('==>Fitting Model.')\n",
    "model.fit_generator(generator=train_generator, \n",
    "    steps_per_epoch=steps_per_epoch, epochs=num_epochs, \n",
    "    validation_data=val_generator, validation_steps=500,\n",
    "    use_multiprocessing=True, workers=4)\n"
   ]
  },
  {
   "cell_type": "code",
   "execution_count": 48,
   "metadata": {},
   "outputs": [
    {
     "name": "stdout",
     "output_type": "stream",
     "text": [
      "==>Evaluating Model.\n",
      "[0.0723327576557708, 0.6278004453105166]\n"
     ]
    }
   ],
   "source": [
    "print('==>Evaluating Model.')\n",
    "print(model.evaluate_generator(generator=test_generator, \n",
    "    workers=4, use_multiprocessing=True))\n",
    "\n"
   ]
  },
  {
   "cell_type": "code",
   "execution_count": 49,
   "metadata": {},
   "outputs": [],
   "source": [
    "model.save(\"deep_cancer_cnn_classifier.h5\")\n"
   ]
  },
  {
   "cell_type": "code",
   "execution_count": null,
   "metadata": {},
   "outputs": [],
   "source": []
  }
 ],
 "metadata": {
  "kernelspec": {
   "display_name": "Python 3",
   "language": "python",
   "name": "python3"
  },
  "language_info": {
   "codemirror_mode": {
    "name": "ipython",
    "version": 3
   },
   "file_extension": ".py",
   "mimetype": "text/x-python",
   "name": "python",
   "nbconvert_exporter": "python",
   "pygments_lexer": "ipython3",
   "version": "3.6.5"
  }
 },
 "nbformat": 4,
 "nbformat_minor": 2
}
