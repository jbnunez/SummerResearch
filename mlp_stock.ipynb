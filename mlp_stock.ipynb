{
 "cells": [
  {
   "cell_type": "code",
   "execution_count": 1,
   "metadata": {},
   "outputs": [
    {
     "name": "stderr",
     "output_type": "stream",
     "text": [
      "Using TensorFlow backend.\n"
     ]
    },
    {
     "name": "stdout",
     "output_type": "stream",
     "text": [
      "==>Loading data...\n",
      "==>Calculating CGRs...\n",
      "==>Making Bins...\n",
      "==>Generating Samples and Labels...\n",
      "Generated 1238 samples\n"
     ]
    }
   ],
   "source": [
    "import numpy as np\n",
    "import scipy as sc\n",
    "import keras\n",
    "from keras.models import Sequential\n",
    "from keras.layers.core import Dense, Dropout, Activation\n",
    "from keras.layers import Input, Flatten\n",
    "import stock_data as data\n",
    "from sklearn.model_selection import train_test_split\n",
    "\n"
   ]
  },
  {
   "cell_type": "markdown",
   "metadata": {},
   "source": [
    "Constants for training"
   ]
  },
  {
   "cell_type": "code",
   "execution_count": 2,
   "metadata": {
    "collapsed": true
   },
   "outputs": [],
   "source": [
    "num_epochs = 10\n",
    "batch_size = 5\n",
    "num_classes = 2"
   ]
  },
  {
   "cell_type": "markdown",
   "metadata": {},
   "source": [
    "Getting data from the imported file"
   ]
  },
  {
   "cell_type": "code",
   "execution_count": 3,
   "metadata": {
    "collapsed": true
   },
   "outputs": [],
   "source": [
    "X_len = data.X_len\n",
    "X_samples = data.X_samples.reshape((X_len, -1))\n",
    "X_covs = data.X_covs\n",
    "X_evals = data.X_evals\n",
    "X_evecs = data.X_evecs\n",
    "\n",
    "X = np.concatenate((X_samples, X_evals, X_evecs), axis=1)\n",
    "#X = np.concatenate((X_samples, X_evecs), axis=1)\n",
    "#X = np.concatenate((X_samples, X_evals), axis=1)\n",
    "#X = X_samples\n",
    "X_len, X_dim = X.shape"
   ]
  },
  {
   "cell_type": "markdown",
   "metadata": {},
   "source": [
    "Getting labels"
   ]
  },
  {
   "cell_type": "code",
   "execution_count": 4,
   "metadata": {},
   "outputs": [
    {
     "name": "stdout",
     "output_type": "stream",
     "text": [
      "[ 1.  0.  1.  1.  1.  1.  1.  0.  1.  1.  1.  1.  1.  0.  0.  1.  0.  0.\n",
      "  1.  1.]\n"
     ]
    }
   ],
   "source": [
    "labels = data.labels\n",
    "print(labels[:20])\n",
    "y = np.zeros((X_len, num_classes))\n",
    "for i in range(X_len):\n",
    "    y[i, int(labels[i])] = 1."
   ]
  },
  {
   "cell_type": "markdown",
   "metadata": {},
   "source": [
    "Split into training and test"
   ]
  },
  {
   "cell_type": "code",
   "execution_count": 5,
   "metadata": {
    "collapsed": true
   },
   "outputs": [],
   "source": [
    "X_train, X_test, y_train, y_test = train_test_split(X, y, test_size=0.2)\n",
    "input_shape = X_train[0].shape"
   ]
  },
  {
   "cell_type": "markdown",
   "metadata": {},
   "source": [
    "Model architecture"
   ]
  },
  {
   "cell_type": "code",
   "execution_count": 6,
   "metadata": {},
   "outputs": [
    {
     "name": "stdout",
     "output_type": "stream",
     "text": [
      "==>Building Model.\n"
     ]
    }
   ],
   "source": [
    "print('==>Building Model.')\n",
    "\n",
    "model = Sequential()\n",
    "model.add(Dense(1000, activation='sigmoid', input_shape=input_shape))\n",
    "model.add(Dropout(0.3))\n",
    "model.add(Dense(1000, activation='relu'))\n",
    "model.add(Dropout(0.3))\n",
    "model.add(Dense(1000, activation='relu'))\n",
    "model.add(Dropout(0.3))\n",
    "model.add(Dense(1000, activation='relu'))\n",
    "model.add(Dropout(0.3))\n",
    "model.add(Dense(1000, activation='relu'))\n",
    "model.add(Dense(num_classes, activation='softmax'))"
   ]
  },
  {
   "cell_type": "code",
   "execution_count": 7,
   "metadata": {},
   "outputs": [
    {
     "name": "stdout",
     "output_type": "stream",
     "text": [
      "==>Compiling Model.\n"
     ]
    }
   ],
   "source": [
    "print('==>Compiling Model.')\n",
    "model.compile(loss='mean_squared_error', optimizer='sgd', metrics=['accuracy'])\n"
   ]
  },
  {
   "cell_type": "code",
   "execution_count": 8,
   "metadata": {},
   "outputs": [
    {
     "name": "stdout",
     "output_type": "stream",
     "text": [
      "==>Fitting Model.\n",
      "Train on 792 samples, validate on 198 samples\n",
      "Epoch 1/10\n",
      "792/792 [==============================] - 3s 4ms/step - loss: 0.2710 - acc: 0.5265 - val_loss: 0.2784 - val_acc: 0.5354\n",
      "Epoch 2/10\n",
      "792/792 [==============================] - 3s 4ms/step - loss: 0.2707 - acc: 0.4987 - val_loss: 0.2495 - val_acc: 0.5354\n",
      "Epoch 3/10\n",
      "792/792 [==============================] - 3s 4ms/step - loss: 0.2614 - acc: 0.5114 - val_loss: 0.2506 - val_acc: 0.4646\n",
      "Epoch 4/10\n",
      "792/792 [==============================] - 3s 4ms/step - loss: 0.2615 - acc: 0.5139 - val_loss: 0.2497 - val_acc: 0.5354\n",
      "Epoch 5/10\n",
      "792/792 [==============================] - 3s 4ms/step - loss: 0.2594 - acc: 0.5164 - val_loss: 0.2578 - val_acc: 0.5354\n",
      "Epoch 6/10\n",
      "792/792 [==============================] - 3s 4ms/step - loss: 0.2553 - acc: 0.5354 - val_loss: 0.2496 - val_acc: 0.5354\n",
      "Epoch 7/10\n",
      "792/792 [==============================] - 3s 4ms/step - loss: 0.2556 - acc: 0.5202 - val_loss: 0.2523 - val_acc: 0.5354\n",
      "Epoch 8/10\n",
      "792/792 [==============================] - 4s 4ms/step - loss: 0.2557 - acc: 0.5328 - val_loss: 0.2494 - val_acc: 0.5354\n",
      "Epoch 9/10\n",
      "792/792 [==============================] - 3s 4ms/step - loss: 0.2563 - acc: 0.5088 - val_loss: 0.2529 - val_acc: 0.5354\n",
      "Epoch 10/10\n",
      "792/792 [==============================] - 3s 4ms/step - loss: 0.2545 - acc: 0.5177 - val_loss: 0.2538 - val_acc: 0.5354\n"
     ]
    },
    {
     "data": {
      "text/plain": [
       "<keras.callbacks.History at 0x1a227706a0>"
      ]
     },
     "execution_count": 8,
     "metadata": {},
     "output_type": "execute_result"
    }
   ],
   "source": [
    "print('==>Fitting Model.')\n",
    "model.fit(x=X_train, y=y_train, batch_size=batch_size, \n",
    "    epochs=num_epochs, validation_split=0.2)"
   ]
  },
  {
   "cell_type": "code",
   "execution_count": 9,
   "metadata": {},
   "outputs": [
    {
     "name": "stdout",
     "output_type": "stream",
     "text": [
      "==>Evaluating Model.\n",
      "248/248 [==============================] - 0s 320us/step\n",
      "loss, accuracy = [0.25356875215807267, 0.53629032450337566]\n"
     ]
    }
   ],
   "source": [
    "print('==>Evaluating Model.')\n",
    "print(\"loss, accuracy =\", model.evaluate(x=X_test, y=y_test))"
   ]
  },
  {
   "cell_type": "code",
   "execution_count": null,
   "metadata": {
    "collapsed": true
   },
   "outputs": [],
   "source": []
  }
 ],
 "metadata": {
  "kernelspec": {
   "display_name": "Python 3",
   "language": "python",
   "name": "python3"
  },
  "language_info": {
   "codemirror_mode": {
    "name": "ipython",
    "version": 3
   },
   "file_extension": ".py",
   "mimetype": "text/x-python",
   "name": "python",
   "nbconvert_exporter": "python",
   "pygments_lexer": "ipython3",
   "version": "3.6.3"
  }
 },
 "nbformat": 4,
 "nbformat_minor": 2
}
